{
 "cells": [
  {
   "cell_type": "code",
   "execution_count": 1,
   "id": "75ab05b6",
   "metadata": {},
   "outputs": [],
   "source": [
    "import torch"
   ]
  },
  {
   "cell_type": "code",
   "execution_count": 22,
   "id": "c934edaf",
   "metadata": {},
   "outputs": [],
   "source": [
    "device = \"cuda\" if torch.cuda.is_available() else \"cpu\""
   ]
  },
  {
   "cell_type": "code",
   "execution_count": 23,
   "id": "e28d8803",
   "metadata": {},
   "outputs": [],
   "source": [
    "my_tensor = torch.tensor([[1, 2, 3], [4, 5, 6]], dtype = torch.float32,\n",
    "                        device = device, requires_grad = True)"
   ]
  },
  {
   "cell_type": "code",
   "execution_count": 24,
   "id": "3dc9ffb1",
   "metadata": {},
   "outputs": [
    {
     "data": {
      "text/plain": [
       "tensor([[1., 2., 3.],\n",
       "        [4., 5., 6.]], requires_grad=True)"
      ]
     },
     "execution_count": 24,
     "metadata": {},
     "output_type": "execute_result"
    }
   ],
   "source": [
    "my_tensor"
   ]
  },
  {
   "cell_type": "code",
   "execution_count": 25,
   "id": "2fd58849",
   "metadata": {},
   "outputs": [
    {
     "data": {
      "text/plain": [
       "torch.Size([2, 3])"
      ]
     },
     "execution_count": 25,
     "metadata": {},
     "output_type": "execute_result"
    }
   ],
   "source": [
    "my_tensor.shape"
   ]
  },
  {
   "cell_type": "code",
   "execution_count": 26,
   "id": "25c41681",
   "metadata": {},
   "outputs": [
    {
     "data": {
      "text/plain": [
       "torch.Tensor"
      ]
     },
     "execution_count": 26,
     "metadata": {},
     "output_type": "execute_result"
    }
   ],
   "source": [
    "type(my_tensor)"
   ]
  },
  {
   "cell_type": "code",
   "execution_count": 27,
   "id": "7a2934d4",
   "metadata": {},
   "outputs": [
    {
     "data": {
      "text/plain": [
       "torch.float32"
      ]
     },
     "execution_count": 27,
     "metadata": {},
     "output_type": "execute_result"
    }
   ],
   "source": [
    "my_tensor.dtype"
   ]
  },
  {
   "cell_type": "code",
   "execution_count": 28,
   "id": "52dc2eab",
   "metadata": {},
   "outputs": [
    {
     "data": {
      "text/plain": [
       "device(type='cpu')"
      ]
     },
     "execution_count": 28,
     "metadata": {},
     "output_type": "execute_result"
    }
   ],
   "source": [
    "my_tensor.device"
   ]
  },
  {
   "cell_type": "code",
   "execution_count": 29,
   "id": "b0cb3874",
   "metadata": {},
   "outputs": [],
   "source": [
    "# Other common initialization methods"
   ]
  },
  {
   "cell_type": "code",
   "execution_count": 32,
   "id": "c5e64800",
   "metadata": {},
   "outputs": [],
   "source": [
    "# not initialized data(very small numbers -> close to the zero)\n",
    "x = torch.empty(size = (3, 3))"
   ]
  },
  {
   "cell_type": "code",
   "execution_count": 33,
   "id": "f0948692",
   "metadata": {},
   "outputs": [],
   "source": [
    "x = torch.zeros(size = (3, 3))"
   ]
  },
  {
   "cell_type": "code",
   "execution_count": 34,
   "id": "e77dc66f",
   "metadata": {},
   "outputs": [
    {
     "data": {
      "text/plain": [
       "tensor([[0., 0., 0.],\n",
       "        [0., 0., 0.],\n",
       "        [0., 0., 0.]])"
      ]
     },
     "execution_count": 34,
     "metadata": {},
     "output_type": "execute_result"
    }
   ],
   "source": [
    "x"
   ]
  },
  {
   "cell_type": "code",
   "execution_count": 35,
   "id": "834dc642",
   "metadata": {},
   "outputs": [
    {
     "data": {
      "text/plain": [
       "tensor([[0.9247, 0.2614, 0.5563],\n",
       "        [0.8660, 0.7849, 0.0053],\n",
       "        [0.7251, 0.4490, 0.4839]])"
      ]
     },
     "execution_count": 35,
     "metadata": {},
     "output_type": "execute_result"
    }
   ],
   "source": [
    "torch.rand((3, 3))"
   ]
  },
  {
   "cell_type": "code",
   "execution_count": 36,
   "id": "cdfa4e3d",
   "metadata": {},
   "outputs": [
    {
     "data": {
      "text/plain": [
       "tensor([[1., 0., 0., 0., 0.],\n",
       "        [0., 1., 0., 0., 0.],\n",
       "        [0., 0., 1., 0., 0.],\n",
       "        [0., 0., 0., 1., 0.],\n",
       "        [0., 0., 0., 0., 1.]])"
      ]
     },
     "execution_count": 36,
     "metadata": {},
     "output_type": "execute_result"
    }
   ],
   "source": [
    "torch.eye(5)"
   ]
  },
  {
   "cell_type": "code",
   "execution_count": 37,
   "id": "73e75e0b",
   "metadata": {},
   "outputs": [
    {
     "data": {
      "text/plain": [
       "tensor([[1., 1., 1.],\n",
       "        [1., 1., 1.],\n",
       "        [1., 1., 1.]])"
      ]
     },
     "execution_count": 37,
     "metadata": {},
     "output_type": "execute_result"
    }
   ],
   "source": [
    "torch.ones((3, 3))"
   ]
  },
  {
   "cell_type": "code",
   "execution_count": 38,
   "id": "2b1a9837",
   "metadata": {},
   "outputs": [
    {
     "data": {
      "text/plain": [
       "tensor([0, 1, 2, 3, 4])"
      ]
     },
     "execution_count": 38,
     "metadata": {},
     "output_type": "execute_result"
    }
   ],
   "source": [
    "torch.arange(start = 0, end = 5, step=1)"
   ]
  },
  {
   "cell_type": "code",
   "execution_count": 41,
   "id": "7f1e83cf",
   "metadata": {},
   "outputs": [
    {
     "data": {
      "text/plain": [
       "tensor([0.1000, 0.2000, 0.3000, 0.4000, 0.5000, 0.6000, 0.7000, 0.8000, 0.9000,\n",
       "        1.0000])"
      ]
     },
     "execution_count": 41,
     "metadata": {},
     "output_type": "execute_result"
    }
   ],
   "source": [
    "torch.linspace(start=0.1, end=1, steps=10)"
   ]
  },
  {
   "cell_type": "code",
   "execution_count": 45,
   "id": "d8ef02f7",
   "metadata": {},
   "outputs": [],
   "source": [
    "x = torch.diag(torch.tensor([[1, 2, 3], [4, 5, 6], [7, 8, 9]]))"
   ]
  },
  {
   "cell_type": "code",
   "execution_count": 46,
   "id": "b7b2b752",
   "metadata": {},
   "outputs": [
    {
     "data": {
      "text/plain": [
       "tensor([1, 5, 9])"
      ]
     },
     "execution_count": 46,
     "metadata": {},
     "output_type": "execute_result"
    }
   ],
   "source": [
    "x"
   ]
  },
  {
   "cell_type": "code",
   "execution_count": 54,
   "id": "018432eb",
   "metadata": {},
   "outputs": [],
   "source": [
    "# torch data types"
   ]
  },
  {
   "cell_type": "code",
   "execution_count": 55,
   "id": "7c466946",
   "metadata": {},
   "outputs": [
    {
     "data": {
      "text/plain": [
       "tensor([True, True, True])"
      ]
     },
     "execution_count": 55,
     "metadata": {},
     "output_type": "execute_result"
    }
   ],
   "source": [
    "x.bool()"
   ]
  },
  {
   "cell_type": "code",
   "execution_count": 56,
   "id": "221f0faf",
   "metadata": {},
   "outputs": [
    {
     "data": {
      "text/plain": [
       "tensor([1., 5., 9.])"
      ]
     },
     "execution_count": 56,
     "metadata": {},
     "output_type": "execute_result"
    }
   ],
   "source": [
    "x.float() #float32"
   ]
  },
  {
   "cell_type": "code",
   "execution_count": 57,
   "id": "f2590f23",
   "metadata": {},
   "outputs": [
    {
     "data": {
      "text/plain": [
       "tensor([1, 5, 9], dtype=torch.int16)"
      ]
     },
     "execution_count": 57,
     "metadata": {},
     "output_type": "execute_result"
    }
   ],
   "source": [
    "x.short() #int16"
   ]
  },
  {
   "cell_type": "code",
   "execution_count": 58,
   "id": "aaf860ae",
   "metadata": {},
   "outputs": [
    {
     "data": {
      "text/plain": [
       "tensor([1, 5, 9])"
      ]
     },
     "execution_count": 58,
     "metadata": {},
     "output_type": "execute_result"
    }
   ],
   "source": [
    "x.long() #int64"
   ]
  },
  {
   "cell_type": "code",
   "execution_count": 53,
   "id": "25aade0f",
   "metadata": {},
   "outputs": [
    {
     "data": {
      "text/plain": [
       "tensor([1., 5., 9.], dtype=torch.float16)"
      ]
     },
     "execution_count": 53,
     "metadata": {},
     "output_type": "execute_result"
    }
   ],
   "source": [
    "x.half() #float16"
   ]
  },
  {
   "cell_type": "code",
   "execution_count": 59,
   "id": "99ebfde1",
   "metadata": {},
   "outputs": [
    {
     "data": {
      "text/plain": [
       "tensor([1., 5., 9.], dtype=torch.float64)"
      ]
     },
     "execution_count": 59,
     "metadata": {},
     "output_type": "execute_result"
    }
   ],
   "source": [
    "x.double() #float64"
   ]
  },
  {
   "cell_type": "code",
   "execution_count": 60,
   "id": "4112658d",
   "metadata": {},
   "outputs": [],
   "source": [
    "# numpy and pytorch"
   ]
  },
  {
   "cell_type": "code",
   "execution_count": 61,
   "id": "7261df21",
   "metadata": {},
   "outputs": [],
   "source": [
    "import numpy as np"
   ]
  },
  {
   "cell_type": "code",
   "execution_count": 62,
   "id": "6ce3d34c",
   "metadata": {},
   "outputs": [],
   "source": [
    "np_array = np.ndarray([1, 2, 3])"
   ]
  },
  {
   "cell_type": "code",
   "execution_count": 63,
   "id": "12a25adf",
   "metadata": {},
   "outputs": [
    {
     "data": {
      "text/plain": [
       "array([[[1.82706909e-316, 0.00000000e+000, 2.35541533e-312],\n",
       "        [7.35613463e+223, 3.03667987e-152, 9.54595513e-307]]])"
      ]
     },
     "execution_count": 63,
     "metadata": {},
     "output_type": "execute_result"
    }
   ],
   "source": [
    "np_array"
   ]
  },
  {
   "cell_type": "code",
   "execution_count": 64,
   "id": "dcb4d298",
   "metadata": {},
   "outputs": [
    {
     "data": {
      "text/plain": [
       "tensor([[[1.8271e-316,  0.0000e+00, 2.3554e-312],\n",
       "         [7.3561e+223, 3.0367e-152, 9.5460e-307]]], dtype=torch.float64)"
      ]
     },
     "execution_count": 64,
     "metadata": {},
     "output_type": "execute_result"
    }
   ],
   "source": [
    "torch.from_numpy(np_array)"
   ]
  },
  {
   "cell_type": "code",
   "execution_count": 65,
   "id": "6ed071c9",
   "metadata": {},
   "outputs": [
    {
     "data": {
      "text/plain": [
       "tensor([1, 5, 9])"
      ]
     },
     "execution_count": 65,
     "metadata": {},
     "output_type": "execute_result"
    }
   ],
   "source": [
    "x"
   ]
  },
  {
   "cell_type": "code",
   "execution_count": 67,
   "id": "02eda3aa",
   "metadata": {},
   "outputs": [
    {
     "data": {
      "text/plain": [
       "array([1, 5, 9])"
      ]
     },
     "execution_count": 67,
     "metadata": {},
     "output_type": "execute_result"
    }
   ],
   "source": [
    "x.numpy()"
   ]
  },
  {
   "cell_type": "code",
   "execution_count": 68,
   "id": "c2b179c0",
   "metadata": {},
   "outputs": [],
   "source": [
    "# meth operations"
   ]
  },
  {
   "cell_type": "code",
   "execution_count": 69,
   "id": "27c03fef",
   "metadata": {},
   "outputs": [],
   "source": [
    "x = torch.tensor([1, 2, 3])\n",
    "y = torch.tensor([4, 5, 6])"
   ]
  },
  {
   "cell_type": "code",
   "execution_count": 70,
   "id": "a2348909",
   "metadata": {},
   "outputs": [
    {
     "data": {
      "text/plain": [
       "tensor([5, 7, 9])"
      ]
     },
     "execution_count": 70,
     "metadata": {},
     "output_type": "execute_result"
    }
   ],
   "source": [
    "x+y"
   ]
  },
  {
   "cell_type": "code",
   "execution_count": 71,
   "id": "7f0d5dc9",
   "metadata": {},
   "outputs": [
    {
     "data": {
      "text/plain": [
       "tensor([-3, -3, -3])"
      ]
     },
     "execution_count": 71,
     "metadata": {},
     "output_type": "execute_result"
    }
   ],
   "source": [
    "x-y"
   ]
  },
  {
   "cell_type": "code",
   "execution_count": 72,
   "id": "9cd939f8",
   "metadata": {},
   "outputs": [
    {
     "data": {
      "text/plain": [
       "tensor([0.2500, 0.4000, 0.5000])"
      ]
     },
     "execution_count": 72,
     "metadata": {},
     "output_type": "execute_result"
    }
   ],
   "source": [
    "x/y"
   ]
  },
  {
   "cell_type": "code",
   "execution_count": 73,
   "id": "c74cd50e",
   "metadata": {},
   "outputs": [
    {
     "data": {
      "text/plain": [
       "tensor([0.2500, 0.4000, 0.5000])"
      ]
     },
     "execution_count": 73,
     "metadata": {},
     "output_type": "execute_result"
    }
   ],
   "source": [
    "torch.true_divide(x, y)"
   ]
  },
  {
   "cell_type": "code",
   "execution_count": 74,
   "id": "001c3e88",
   "metadata": {},
   "outputs": [],
   "source": [
    "# operation_ means that this operation does inplace"
   ]
  },
  {
   "cell_type": "code",
   "execution_count": 75,
   "id": "4382c045",
   "metadata": {},
   "outputs": [
    {
     "data": {
      "text/plain": [
       "tensor([1, 4, 9])"
      ]
     },
     "execution_count": 75,
     "metadata": {},
     "output_type": "execute_result"
    }
   ],
   "source": [
    "x.pow(2)"
   ]
  },
  {
   "cell_type": "code",
   "execution_count": 76,
   "id": "5b49d5cf",
   "metadata": {},
   "outputs": [
    {
     "data": {
      "text/plain": [
       "tensor([1, 4, 9])"
      ]
     },
     "execution_count": 76,
     "metadata": {},
     "output_type": "execute_result"
    }
   ],
   "source": [
    "x ** 2"
   ]
  },
  {
   "cell_type": "code",
   "execution_count": 77,
   "id": "07ccd64b",
   "metadata": {},
   "outputs": [],
   "source": [
    "x1 = torch.rand((2, 5))"
   ]
  },
  {
   "cell_type": "code",
   "execution_count": 78,
   "id": "f24f646d",
   "metadata": {},
   "outputs": [],
   "source": [
    "x2 = torch.rand((5, 3))"
   ]
  },
  {
   "cell_type": "code",
   "execution_count": 79,
   "id": "6854f455",
   "metadata": {},
   "outputs": [
    {
     "data": {
      "text/plain": [
       "(tensor([[0.8677, 0.3458, 0.3100, 0.7667, 0.1883],\n",
       "         [0.9395, 0.2780, 0.3981, 0.4825, 0.4288]]),\n",
       " tensor([[0.0845, 0.5360, 0.5579],\n",
       "         [0.9154, 0.7009, 0.5249],\n",
       "         [0.2488, 0.0706, 0.5327],\n",
       "         [0.4390, 0.9522, 0.1285],\n",
       "         [0.4821, 0.8623, 0.5829]]))"
      ]
     },
     "execution_count": 79,
     "metadata": {},
     "output_type": "execute_result"
    }
   ],
   "source": [
    "x1, x2"
   ]
  },
  {
   "cell_type": "code",
   "execution_count": 80,
   "id": "b5db3029",
   "metadata": {},
   "outputs": [
    {
     "data": {
      "text/plain": [
       "tensor([[0.8944, 1.6218, 1.0391],\n",
       "        [0.8515, 1.5557, 1.1942]])"
      ]
     },
     "execution_count": 80,
     "metadata": {},
     "output_type": "execute_result"
    }
   ],
   "source": [
    "torch.mm(x1, x2)"
   ]
  },
  {
   "cell_type": "code",
   "execution_count": 81,
   "id": "4d152b83",
   "metadata": {},
   "outputs": [
    {
     "data": {
      "text/plain": [
       "tensor([[0.8944, 1.6218, 1.0391],\n",
       "        [0.8515, 1.5557, 1.1942]])"
      ]
     },
     "execution_count": 81,
     "metadata": {},
     "output_type": "execute_result"
    }
   ],
   "source": [
    "x1 @ x2"
   ]
  },
  {
   "cell_type": "code",
   "execution_count": 82,
   "id": "7471356e",
   "metadata": {},
   "outputs": [
    {
     "data": {
      "text/plain": [
       "tensor([[0.8944, 1.6218, 1.0391],\n",
       "        [0.8515, 1.5557, 1.1942]])"
      ]
     },
     "execution_count": 82,
     "metadata": {},
     "output_type": "execute_result"
    }
   ],
   "source": [
    "x1.mm(x2)"
   ]
  },
  {
   "cell_type": "code",
   "execution_count": 83,
   "id": "b27f71b2",
   "metadata": {},
   "outputs": [
    {
     "data": {
      "text/plain": [
       "tensor([[0.7530, 0.1196, 0.0961, 0.5879, 0.0355],\n",
       "        [0.8827, 0.0773, 0.1585, 0.2328, 0.1839]])"
      ]
     },
     "execution_count": 83,
     "metadata": {},
     "output_type": "execute_result"
    }
   ],
   "source": [
    "x1**2"
   ]
  },
  {
   "cell_type": "code",
   "execution_count": 84,
   "id": "fc2bd760",
   "metadata": {},
   "outputs": [
    {
     "ename": "RuntimeError",
     "evalue": "linalg.matrix_power: A must be batches of square matrices, but they are 2 by 5 matrices",
     "output_type": "error",
     "traceback": [
      "\u001b[0;31m---------------------------------------------------------------------------\u001b[0m",
      "\u001b[0;31mRuntimeError\u001b[0m                              Traceback (most recent call last)",
      "Cell \u001b[0;32mIn[84], line 1\u001b[0m\n\u001b[0;32m----> 1\u001b[0m x1\u001b[38;5;241m.\u001b[39mmatrix_power(\u001b[38;5;241m2\u001b[39m)\n",
      "\u001b[0;31mRuntimeError\u001b[0m: linalg.matrix_power: A must be batches of square matrices, but they are 2 by 5 matrices"
     ]
    }
   ],
   "source": [
    "x1.matrix_power(2)"
   ]
  },
  {
   "cell_type": "code",
   "execution_count": 85,
   "id": "51ddcf53",
   "metadata": {},
   "outputs": [
    {
     "data": {
      "text/plain": [
       "(tensor([1, 2, 3]), tensor([4, 5, 6]))"
      ]
     },
     "execution_count": 85,
     "metadata": {},
     "output_type": "execute_result"
    }
   ],
   "source": [
    "x, y"
   ]
  },
  {
   "cell_type": "code",
   "execution_count": 86,
   "id": "936b8484",
   "metadata": {},
   "outputs": [
    {
     "data": {
      "text/plain": [
       "tensor(32)"
      ]
     },
     "execution_count": 86,
     "metadata": {},
     "output_type": "execute_result"
    }
   ],
   "source": [
    "torch.dot(x, y)"
   ]
  },
  {
   "cell_type": "code",
   "execution_count": 87,
   "id": "89a731f6",
   "metadata": {},
   "outputs": [
    {
     "data": {
      "text/plain": [
       "tensor(32)"
      ]
     },
     "execution_count": 87,
     "metadata": {},
     "output_type": "execute_result"
    }
   ],
   "source": [
    "x.dot(y)"
   ]
  },
  {
   "cell_type": "code",
   "execution_count": 88,
   "id": "7f13aed2",
   "metadata": {},
   "outputs": [],
   "source": [
    "# broadcasting"
   ]
  },
  {
   "cell_type": "code",
   "execution_count": 89,
   "id": "f7c701c9",
   "metadata": {},
   "outputs": [
    {
     "data": {
      "text/plain": [
       "tensor([-3, -3, -3])"
      ]
     },
     "execution_count": 89,
     "metadata": {},
     "output_type": "execute_result"
    }
   ],
   "source": [
    "x - y"
   ]
  },
  {
   "cell_type": "code",
   "execution_count": 90,
   "id": "a41ee24e",
   "metadata": {},
   "outputs": [],
   "source": [
    "x1 = torch.rand((2, 2))\n",
    "x2 = torch.rand((2, 2))"
   ]
  },
  {
   "cell_type": "code",
   "execution_count": 91,
   "id": "3585a212",
   "metadata": {},
   "outputs": [
    {
     "data": {
      "text/plain": [
       "(tensor([[0.1577, 0.8677],\n",
       "         [0.0672, 0.0479]]),\n",
       " tensor([[0.2059, 0.1016],\n",
       "         [0.7112, 0.3595]]))"
      ]
     },
     "execution_count": 91,
     "metadata": {},
     "output_type": "execute_result"
    }
   ],
   "source": [
    "x1, x2"
   ]
  },
  {
   "cell_type": "code",
   "execution_count": 92,
   "id": "773f54fa",
   "metadata": {},
   "outputs": [
    {
     "data": {
      "text/plain": [
       "tensor([[-0.0482,  0.7661],\n",
       "        [-0.6441, -0.3116]])"
      ]
     },
     "execution_count": 92,
     "metadata": {},
     "output_type": "execute_result"
    }
   ],
   "source": [
    "x1 - x2"
   ]
  },
  {
   "cell_type": "markdown",
   "id": "304f02d0",
   "metadata": {},
   "source": [
    "x1 ** x2"
   ]
  },
  {
   "cell_type": "code",
   "execution_count": 97,
   "id": "575f34ae",
   "metadata": {},
   "outputs": [
    {
     "data": {
      "text/plain": [
       "tensor([0.2249, 0.9156])"
      ]
     },
     "execution_count": 97,
     "metadata": {},
     "output_type": "execute_result"
    }
   ],
   "source": [
    "x1.sum(dim = 0) # columns"
   ]
  },
  {
   "cell_type": "code",
   "execution_count": 98,
   "id": "dbfe617c",
   "metadata": {},
   "outputs": [
    {
     "data": {
      "text/plain": [
       "tensor([1.0254, 0.1151])"
      ]
     },
     "execution_count": 98,
     "metadata": {},
     "output_type": "execute_result"
    }
   ],
   "source": [
    "x1.sum(dim = 1) #rows"
   ]
  },
  {
   "cell_type": "code",
   "execution_count": 101,
   "id": "0d58de1a",
   "metadata": {},
   "outputs": [
    {
     "data": {
      "text/plain": [
       "tensor([0.1577, 0.0479])"
      ]
     },
     "execution_count": 101,
     "metadata": {},
     "output_type": "execute_result"
    }
   ],
   "source": [
    "torch.min(x1, dim = 1).values"
   ]
  },
  {
   "cell_type": "code",
   "execution_count": 104,
   "id": "8290078a",
   "metadata": {},
   "outputs": [
    {
     "data": {
      "text/plain": [
       "tensor(3)"
      ]
     },
     "execution_count": 104,
     "metadata": {},
     "output_type": "execute_result"
    }
   ],
   "source": [
    "torch.argmin(x1)"
   ]
  },
  {
   "cell_type": "code",
   "execution_count": 105,
   "id": "c3e57cd8",
   "metadata": {},
   "outputs": [
    {
     "data": {
      "text/plain": [
       "tensor([[False, False],\n",
       "        [False, False]])"
      ]
     },
     "execution_count": 105,
     "metadata": {},
     "output_type": "execute_result"
    }
   ],
   "source": [
    "torch.eq(x1, x2)"
   ]
  },
  {
   "cell_type": "code",
   "execution_count": 109,
   "id": "7e2225cd",
   "metadata": {},
   "outputs": [
    {
     "data": {
      "text/plain": [
       "torch.return_types.sort(\n",
       "values=tensor([[0.1577, 0.8677],\n",
       "        [0.0672, 0.0479]]),\n",
       "indices=tensor([[0, 0],\n",
       "        [1, 1]]))"
      ]
     },
     "execution_count": 109,
     "metadata": {},
     "output_type": "execute_result"
    }
   ],
   "source": [
    "x1.sort(dim = 0, descending = True)"
   ]
  },
  {
   "cell_type": "code",
   "execution_count": 112,
   "id": "f850f61a",
   "metadata": {},
   "outputs": [
    {
     "data": {
      "text/plain": [
       "tensor([[0., 0.],\n",
       "        [0., 0.]])"
      ]
     },
     "execution_count": 112,
     "metadata": {},
     "output_type": "execute_result"
    }
   ],
   "source": [
    "# all element are below or higher than .. will be 0\n",
    "torch.clamp(x1, max = 0) "
   ]
  },
  {
   "cell_type": "code",
   "execution_count": 114,
   "id": "a0d43a7b",
   "metadata": {},
   "outputs": [
    {
     "data": {
      "text/plain": [
       "tensor(True)"
      ]
     },
     "execution_count": 114,
     "metadata": {},
     "output_type": "execute_result"
    }
   ],
   "source": [
    "torch.all(x1)"
   ]
  },
  {
   "cell_type": "code",
   "execution_count": 115,
   "id": "72a8e869",
   "metadata": {},
   "outputs": [],
   "source": [
    "x = torch.tensor([1, 1, 1, 0, 1])"
   ]
  },
  {
   "cell_type": "code",
   "execution_count": 116,
   "id": "7fa02949",
   "metadata": {},
   "outputs": [
    {
     "data": {
      "text/plain": [
       "tensor(True)"
      ]
     },
     "execution_count": 116,
     "metadata": {},
     "output_type": "execute_result"
    }
   ],
   "source": [
    "torch.any(x)"
   ]
  },
  {
   "cell_type": "code",
   "execution_count": 117,
   "id": "0b87eb15",
   "metadata": {},
   "outputs": [
    {
     "data": {
      "text/plain": [
       "tensor(False)"
      ]
     },
     "execution_count": 117,
     "metadata": {},
     "output_type": "execute_result"
    }
   ],
   "source": [
    "torch.all(x) # because there is one zero in the tensor"
   ]
  },
  {
   "cell_type": "code",
   "execution_count": 118,
   "id": "cc38994a",
   "metadata": {},
   "outputs": [],
   "source": [
    "# indexing"
   ]
  },
  {
   "cell_type": "code",
   "execution_count": 125,
   "id": "2ecb0952",
   "metadata": {},
   "outputs": [],
   "source": [
    "x = torch.rand((10, 10))"
   ]
  },
  {
   "cell_type": "code",
   "execution_count": 126,
   "id": "0f50c092",
   "metadata": {},
   "outputs": [
    {
     "data": {
      "text/plain": [
       "tensor([[0.8716, 0.3818, 0.0693, 0.4000, 0.9646, 0.6669, 0.9750, 0.2923, 0.3289,\n",
       "         0.9049],\n",
       "        [0.3843, 0.4442, 0.7595, 0.6799, 0.5860, 0.2648, 0.9418, 0.9669, 0.8835,\n",
       "         0.8552],\n",
       "        [0.0088, 0.9083, 0.5023, 0.8742, 0.6718, 0.3603, 0.0626, 0.0362, 0.1582,\n",
       "         0.3201],\n",
       "        [0.8861, 0.2260, 0.3524, 0.5885, 0.3281, 0.9193, 0.2925, 0.1358, 0.3787,\n",
       "         0.9722],\n",
       "        [0.1786, 0.2574, 0.9288, 0.3532, 0.2159, 0.3915, 0.9375, 0.5916, 0.3553,\n",
       "         0.1229],\n",
       "        [0.8156, 0.7349, 0.1502, 0.3582, 0.9775, 0.6517, 0.5345, 0.5923, 0.0495,\n",
       "         0.9464],\n",
       "        [0.6272, 0.3666, 0.6531, 0.6000, 0.1093, 0.2934, 0.9806, 0.9790, 0.3464,\n",
       "         0.0443],\n",
       "        [0.2728, 0.8177, 0.6946, 0.4432, 0.1740, 0.2611, 0.9920, 0.8553, 0.7808,\n",
       "         0.1474],\n",
       "        [0.0229, 0.0442, 0.4808, 0.8169, 0.0908, 0.9123, 0.1784, 0.9865, 0.9555,\n",
       "         0.3293],\n",
       "        [0.0174, 0.9671, 0.3234, 0.5604, 0.9631, 0.4699, 0.4624, 0.0853, 0.5811,\n",
       "         0.0039]])"
      ]
     },
     "execution_count": 126,
     "metadata": {},
     "output_type": "execute_result"
    }
   ],
   "source": [
    "x"
   ]
  },
  {
   "cell_type": "code",
   "execution_count": 127,
   "id": "74ea3b53",
   "metadata": {},
   "outputs": [
    {
     "data": {
      "text/plain": [
       "tensor([0.8716, 0.3818, 0.0693, 0.4000, 0.9646, 0.6669, 0.9750, 0.2923, 0.3289,\n",
       "        0.9049])"
      ]
     },
     "execution_count": 127,
     "metadata": {},
     "output_type": "execute_result"
    }
   ],
   "source": [
    "x[0]"
   ]
  },
  {
   "cell_type": "code",
   "execution_count": 128,
   "id": "7f50a32c",
   "metadata": {},
   "outputs": [
    {
     "data": {
      "text/plain": [
       "tensor([0.8716, 0.3843, 0.0088, 0.8861, 0.1786, 0.8156, 0.6272, 0.2728, 0.0229,\n",
       "        0.0174])"
      ]
     },
     "execution_count": 128,
     "metadata": {},
     "output_type": "execute_result"
    }
   ],
   "source": [
    "x[:, 0]"
   ]
  },
  {
   "cell_type": "code",
   "execution_count": 129,
   "id": "69a9f9d1",
   "metadata": {},
   "outputs": [
    {
     "data": {
      "text/plain": [
       "tensor([0.0088, 0.9083, 0.5023, 0.8742, 0.6718, 0.3603])"
      ]
     },
     "execution_count": 129,
     "metadata": {},
     "output_type": "execute_result"
    }
   ],
   "source": [
    "x[2, 0:6]"
   ]
  },
  {
   "cell_type": "code",
   "execution_count": 130,
   "id": "f4eec799",
   "metadata": {},
   "outputs": [
    {
     "data": {
      "text/plain": [
       "tensor([[0.0088, 0.9083, 0.5023, 0.8742, 0.6718, 0.3603, 0.0626, 0.0362, 0.1582,\n",
       "         0.3201],\n",
       "        [0.8156, 0.7349, 0.1502, 0.3582, 0.9775, 0.6517, 0.5345, 0.5923, 0.0495,\n",
       "         0.9464],\n",
       "        [0.0229, 0.0442, 0.4808, 0.8169, 0.0908, 0.9123, 0.1784, 0.9865, 0.9555,\n",
       "         0.3293]])"
      ]
     },
     "execution_count": 130,
     "metadata": {},
     "output_type": "execute_result"
    }
   ],
   "source": [
    "x[[2, 5, 8]]"
   ]
  },
  {
   "cell_type": "code",
   "execution_count": 131,
   "id": "af154258",
   "metadata": {},
   "outputs": [],
   "source": [
    "# useful operations"
   ]
  },
  {
   "cell_type": "code",
   "execution_count": 135,
   "id": "72a00294",
   "metadata": {},
   "outputs": [],
   "source": [
    "x = torch.tensor([0.1, 0.2, 1, 2])"
   ]
  },
  {
   "cell_type": "code",
   "execution_count": 136,
   "id": "663a47fb",
   "metadata": {},
   "outputs": [
    {
     "data": {
      "text/plain": [
       "tensor([0.0100, 0.0400, 1.0000, 2.0000])"
      ]
     },
     "execution_count": 136,
     "metadata": {},
     "output_type": "execute_result"
    }
   ],
   "source": [
    "torch.where(x > 0.5, x, x**2)"
   ]
  },
  {
   "cell_type": "code",
   "execution_count": 137,
   "id": "e0e2d2f7",
   "metadata": {},
   "outputs": [],
   "source": [
    "# tensor reshaping"
   ]
  },
  {
   "cell_type": "code",
   "execution_count": 138,
   "id": "b5e85b93",
   "metadata": {},
   "outputs": [],
   "source": [
    "x = torch.rand((3, 3))"
   ]
  },
  {
   "cell_type": "code",
   "execution_count": 139,
   "id": "bd14f55b",
   "metadata": {},
   "outputs": [
    {
     "data": {
      "text/plain": [
       "tensor([[0.1890, 0.8019, 0.2591],\n",
       "        [0.2749, 0.0550, 0.5809],\n",
       "        [0.9683, 0.6486, 0.6994]])"
      ]
     },
     "execution_count": 139,
     "metadata": {},
     "output_type": "execute_result"
    }
   ],
   "source": [
    "x"
   ]
  },
  {
   "cell_type": "code",
   "execution_count": 146,
   "id": "671b6f0a",
   "metadata": {},
   "outputs": [
    {
     "data": {
      "text/plain": [
       "tensor([[0.1890, 0.8019, 0.2591, 0.2749, 0.0550, 0.5809, 0.9683, 0.6486, 0.6994]])"
      ]
     },
     "execution_count": 146,
     "metadata": {},
     "output_type": "execute_result"
    }
   ],
   "source": [
    "x.view(-1, 9)"
   ]
  },
  {
   "cell_type": "code",
   "execution_count": 147,
   "id": "4de5e118",
   "metadata": {},
   "outputs": [
    {
     "data": {
      "text/plain": [
       "tensor([[0.1890, 0.2749, 0.9683],\n",
       "        [0.8019, 0.0550, 0.6486],\n",
       "        [0.2591, 0.5809, 0.6994]])"
      ]
     },
     "execution_count": 147,
     "metadata": {},
     "output_type": "execute_result"
    }
   ],
   "source": [
    "x.t()"
   ]
  },
  {
   "cell_type": "code",
   "execution_count": 158,
   "id": "4e0d8b98",
   "metadata": {},
   "outputs": [
    {
     "data": {
      "text/plain": [
       "tensor([[[0.1890, 0.8019, 0.2591],\n",
       "         [0.2749, 0.0550, 0.5809],\n",
       "         [0.9683, 0.6486, 0.6994]]])"
      ]
     },
     "execution_count": 158,
     "metadata": {},
     "output_type": "execute_result"
    }
   ],
   "source": [
    "x.unsqueeze(0)"
   ]
  },
  {
   "cell_type": "code",
   "execution_count": 156,
   "id": "691737ce",
   "metadata": {},
   "outputs": [
    {
     "data": {
      "text/plain": [
       "tensor([[0.1890, 0.8019, 0.2591],\n",
       "        [0.2749, 0.0550, 0.5809],\n",
       "        [0.9683, 0.6486, 0.6994]])"
      ]
     },
     "execution_count": 156,
     "metadata": {},
     "output_type": "execute_result"
    }
   ],
   "source": [
    "x.squeeze()"
   ]
  },
  {
   "cell_type": "code",
   "execution_count": 159,
   "id": "2d8d9c84",
   "metadata": {},
   "outputs": [
    {
     "data": {
      "text/plain": [
       "tensor([0.1890, 0.8019, 0.2591, 0.2749, 0.0550, 0.5809, 0.9683, 0.6486, 0.6994])"
      ]
     },
     "execution_count": 159,
     "metadata": {},
     "output_type": "execute_result"
    }
   ],
   "source": [
    "x.flatten()"
   ]
  },
  {
   "cell_type": "code",
   "execution_count": null,
   "id": "347c2e36",
   "metadata": {},
   "outputs": [],
   "source": []
  }
 ],
 "metadata": {
  "kernelspec": {
   "display_name": "Python 3 (ipykernel)",
   "language": "python",
   "name": "python3"
  },
  "language_info": {
   "codemirror_mode": {
    "name": "ipython",
    "version": 3
   },
   "file_extension": ".py",
   "mimetype": "text/x-python",
   "name": "python",
   "nbconvert_exporter": "python",
   "pygments_lexer": "ipython3",
   "version": "3.11.5"
  }
 },
 "nbformat": 4,
 "nbformat_minor": 5
}
